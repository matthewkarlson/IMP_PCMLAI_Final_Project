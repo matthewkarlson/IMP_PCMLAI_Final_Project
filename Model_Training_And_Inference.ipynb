{
 "cells": [
  {
   "cell_type": "code",
   "execution_count": 1,
   "metadata": {},
   "outputs": [
    {
     "name": "stderr",
     "output_type": "stream",
     "text": [
      "/Users/matthewkarlson/Desktop/Imperial AI Course/Final_Project/venv/lib/python3.11/site-packages/tqdm/auto.py:21: TqdmWarning: IProgress not found. Please update jupyter and ipywidgets. See https://ipywidgets.readthedocs.io/en/stable/user_install.html\n",
      "  from .autonotebook import tqdm as notebook_tqdm\n"
     ]
    }
   ],
   "source": [
    "import numpy as np\n",
    "import pandas as pd\n",
    "\n",
    "from sklearn.linear_model import LinearRegression\n",
    "from sklearn.ensemble import RandomForestRegressor\n",
    "from sklearn.model_selection import cross_validate, RandomizedSearchCV\n",
    "from sklearn.metrics import mean_absolute_error, mean_squared_error, r2_score\n",
    "from sklearn.model_selection import learning_curve\n",
    "from sklearn.inspection import PartialDependenceDisplay\n",
    "\n",
    "import matplotlib.pyplot as plt\n",
    "import seaborn as sns\n",
    "\n",
    "# Gradient Boosting Regressors\n",
    "from xgboost import XGBRegressor\n",
    "from lightgbm import LGBMRegressor\n",
    "\n",
    "# SHAP for model interpretation\n",
    "import shap\n"
   ]
  },
  {
   "cell_type": "code",
   "execution_count": 4,
   "metadata": {},
   "outputs": [],
   "source": [
    "X_train = pd.read_csv('X_train.csv')\n",
    "X_valid = pd.read_csv('X_valid.csv')\n",
    "y_train = pd.read_csv('y_train.csv')\n",
    "y_valid = pd.read_csv('y_valid.csv')"
   ]
  },
  {
   "cell_type": "markdown",
   "metadata": {},
   "source": [
    "## Basic Linear Regression as a Baseline\n",
    "We'll start by training a simple Linear Regression model as our baseline."
   ]
  },
  {
   "cell_type": "code",
   "execution_count": 7,
   "metadata": {},
   "outputs": [
    {
     "name": "stdout",
     "output_type": "stream",
     "text": [
      "Linear Regression Cross-Validation Results:\n",
      "Mean MAE: 953171.88\n",
      "Mean RMSE: 8584109.59\n",
      "Mean R²: -3913674512731946.50\n"
     ]
    }
   ],
   "source": [
    "# Instantiate the Linear Regression model\n",
    "lin_reg = LinearRegression()\n",
    "# Define the scoring metrics\n",
    "scoring = {\n",
    "    'MAE': 'neg_mean_absolute_error',\n",
    "    'RMSE': 'neg_root_mean_squared_error',\n",
    "    'R2': 'r2'\n",
    "}\n",
    "\n",
    "# Perform cross-validation\n",
    "cv_results_lin = cross_validate(lin_reg, X_train, y_train, cv=5, scoring=scoring)\n",
    "\n",
    "# Calculate average scores\n",
    "mean_mae = -cv_results_lin['test_MAE'].mean()\n",
    "mean_rmse = -cv_results_lin['test_RMSE'].mean()\n",
    "mean_r2 = cv_results_lin['test_R2'].mean()\n",
    "\n",
    "print('Linear Regression Cross-Validation Results:')\n",
    "print(f\"Mean MAE: {mean_mae:.2f}\")\n",
    "print(f\"Mean RMSE: {mean_rmse:.2f}\")\n",
    "print(f\"Mean R²: {mean_r2:.2f}\")\n"
   ]
  },
  {
   "cell_type": "markdown",
   "metadata": {},
   "source": [
    "Wow, those results are really bad, lets use some advanced models!"
   ]
  },
  {
   "cell_type": "markdown",
   "metadata": {},
   "source": [
    "## Advanced Models\n",
    "Now lets make it interesting! We will examine the performance of various models on our dataset."
   ]
  },
  {
   "cell_type": "code",
   "execution_count": 6,
   "metadata": {},
   "outputs": [
    {
     "name": "stdout",
     "output_type": "stream",
     "text": [
      "Random Forest Cross-Validation Results:\n",
      "Mean MAE: 0.64\n",
      "Mean RMSE: 0.83\n",
      "Mean R²: 0.61\n"
     ]
    }
   ],
   "source": [
    "# Instantiate the Random Forest Regressor\n",
    "rf_reg = RandomForestRegressor(random_state=42)\n",
    "# Perform cross-validation\n",
    "cv_results_rf = cross_validate(rf_reg, X_train, y_train, cv=5, scoring=scoring, n_jobs=-1)\n",
    "\n",
    "# Calculate average scores\n",
    "mean_mae_rf = -cv_results_rf['test_MAE'].mean()\n",
    "mean_rmse_rf = -cv_results_rf['test_RMSE'].mean()\n",
    "mean_r2_rf = cv_results_rf['test_R2'].mean()\n",
    "\n",
    "print('Random Forest Cross-Validation Results:')\n",
    "print(f\"Mean MAE: {mean_mae_rf:.2f}\")\n",
    "print(f\"Mean RMSE: {mean_rmse_rf:.2f}\")\n",
    "print(f\"Mean R²: {mean_r2_rf:.2f}\")\n"
   ]
  },
  {
   "cell_type": "markdown",
   "metadata": {},
   "source": [
    "This is far far better, which is great! It means we aren't adding complexity for nothing! Lets see if XGBoost is even better."
   ]
  },
  {
   "cell_type": "code",
   "execution_count": 8,
   "metadata": {},
   "outputs": [
    {
     "name": "stdout",
     "output_type": "stream",
     "text": [
      "XGBoost Cross-Validation Results:\n",
      "Mean MAE: 2.32\n",
      "Mean RMSE: 3.09\n",
      "Mean R²: 0.93\n"
     ]
    }
   ],
   "source": [
    "# Instantiate the XGBoost Regressor\n",
    "xgb_reg = XGBRegressor(random_state=42, verbosity=0)\n",
    "# Perform cross-validation\n",
    "cv_results_xgb = cross_validate(xgb_reg, X_train, y_train, cv=5, scoring=scoring, n_jobs=-1)\n",
    "\n",
    "# Calculate average scores\n",
    "mean_mae_xgb = -cv_results_xgb['test_MAE'].mean()\n",
    "mean_rmse_xgb = -cv_results_xgb['test_RMSE'].mean()\n",
    "mean_r2_xgb = cv_results_xgb['test_R2'].mean()\n",
    "\n",
    "print('XGBoost Cross-Validation Results:')\n",
    "print(f\"Mean MAE: {mean_mae_xgb:.2f}\")\n",
    "print(f\"Mean RMSE: {mean_rmse_xgb:.2f}\")\n",
    "print(f\"Mean R²: {mean_r2_xgb:.2f}\")\n"
   ]
  },
  {
   "cell_type": "code",
   "execution_count": null,
   "metadata": {},
   "outputs": [
    {
     "data": {
      "text/html": [
       "<div>\n",
       "<style scoped>\n",
       "    .dataframe tbody tr th:only-of-type {\n",
       "        vertical-align: middle;\n",
       "    }\n",
       "\n",
       "    .dataframe tbody tr th {\n",
       "        vertical-align: top;\n",
       "    }\n",
       "\n",
       "    .dataframe thead th {\n",
       "        text-align: right;\n",
       "    }\n",
       "</style>\n",
       "<table border=\"1\" class=\"dataframe\">\n",
       "  <thead>\n",
       "    <tr style=\"text-align: right;\">\n",
       "      <th></th>\n",
       "      <th>Model</th>\n",
       "      <th>MAE</th>\n",
       "      <th>RMSE</th>\n",
       "      <th>R²</th>\n",
       "    </tr>\n",
       "  </thead>\n",
       "  <tbody>\n",
       "    <tr>\n",
       "      <th>0</th>\n",
       "      <td>Linear Regression</td>\n",
       "      <td>953171.877966</td>\n",
       "      <td>8.584110e+06</td>\n",
       "      <td>-3.913675e+15</td>\n",
       "    </tr>\n",
       "    <tr>\n",
       "      <th>1</th>\n",
       "      <td>Random Forest</td>\n",
       "      <td>0.637700</td>\n",
       "      <td>8.298656e-01</td>\n",
       "      <td>6.133422e-01</td>\n",
       "    </tr>\n",
       "    <tr>\n",
       "      <th>2</th>\n",
       "      <td>XGBoost</td>\n",
       "      <td>2.323017</td>\n",
       "      <td>3.085638e+00</td>\n",
       "      <td>9.307691e-01</td>\n",
       "    </tr>\n",
       "  </tbody>\n",
       "</table>\n",
       "</div>"
      ],
      "text/plain": [
       "               Model            MAE          RMSE            R²\n",
       "0  Linear Regression  953171.877966  8.584110e+06 -3.913675e+15\n",
       "1      Random Forest       0.637700  8.298656e-01  6.133422e-01\n",
       "2            XGBoost       2.323017  3.085638e+00  9.307691e-01"
      ]
     },
     "execution_count": 13,
     "metadata": {},
     "output_type": "execute_result"
    }
   ],
   "source": [
    "# Create a DataFrame to compare the models\n",
    "results = pd.DataFrame({\n",
    "    'Model': ['Linear Regression', 'Random Forest', 'XGBoost'],\n",
    "    'MAE': [mean_mae, mean_mae_rf, mean_mae_xgb],\n",
    "    'RMSE': [mean_rmse, mean_rmse_rf, mean_rmse_xgb],\n",
    "    'R²': [mean_r2, mean_r2_rf, mean_r2_xgb]\n",
    "})\n",
    "\n",
    "results\n"
   ]
  },
  {
   "cell_type": "code",
   "execution_count": null,
   "metadata": {},
   "outputs": [],
   "source": []
  }
 ],
 "metadata": {
  "kernelspec": {
   "display_name": "venv",
   "language": "python",
   "name": "python3"
  },
  "language_info": {
   "codemirror_mode": {
    "name": "ipython",
    "version": 3
   },
   "file_extension": ".py",
   "mimetype": "text/x-python",
   "name": "python",
   "nbconvert_exporter": "python",
   "pygments_lexer": "ipython3",
   "version": "3.11.0"
  }
 },
 "nbformat": 4,
 "nbformat_minor": 2
}
